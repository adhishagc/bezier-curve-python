{
  "nbformat": 4,
  "nbformat_minor": 0,
  "metadata": {
    "colab": {
      "name": "Bezier Curve Representation.ipynb",
      "version": "0.3.2",
      "provenance": []
    },
    "kernelspec": {
      "name": "python3",
      "display_name": "Python 3"
    }
  },
  "cells": [
    {
      "metadata": {
        "id": "BmKjZ5YwesOf",
        "colab_type": "code",
        "colab": {}
      },
      "cell_type": "code",
      "source": [
        "import pandas as pd\n",
        "from matplotlib import pyplot as plt"
      ],
      "execution_count": 0,
      "outputs": []
    },
    {
      "metadata": {
        "id": "LgV6mvGbe0GY",
        "colab_type": "code",
        "colab": {}
      },
      "cell_type": "code",
      "source": [
        "#Making points\n",
        "p0 = [0,0]\n",
        "p1 = [0.5,1]\n",
        "p2 = [1,0]\n",
        "\n",
        "x=[0,0.5,0.75,1]\n",
        "y=[0,1,1,0]\n",
        "\n",
        "a=[0,0.25,0.75,1]\n",
        "b=[0,0.5,0.5,0]"
      ],
      "execution_count": 0,
      "outputs": []
    },
    {
      "metadata": {
        "id": "NOLblSAlfOD3",
        "colab_type": "code",
        "colab": {
          "base_uri": "https://localhost:8080/",
          "height": 286
        },
        "outputId": "263a0e49-fe11-400e-a193-bd8bb0243763"
      },
      "cell_type": "code",
      "source": [
        "plt.plot(x,y, 'r+')\n",
        "plt.plot(x,y, linestyle='solid')\n",
        "#plt.plot(a,b, linestyle='dashed')"
      ],
      "execution_count": 42,
      "outputs": [
        {
          "output_type": "execute_result",
          "data": {
            "text/plain": [
              "[<matplotlib.lines.Line2D at 0x7ff2645205c0>]"
            ]
          },
          "metadata": {
            "tags": []
          },
          "execution_count": 42
        },
        {
          "output_type": "display_data",
          "data": {
            "image/png": "[encoded data removed]",
            "text/plain": [
              "<Figure size 432x288 with 1 Axes>"
            ]
          },
          "metadata": {
            "tags": []
          }
        }
      ]
    },
    {
      "metadata": {
        "id": "jfICPNrVfOsu",
        "colab_type": "code",
        "colab": {}
      },
      "cell_type": "code",
      "source": [
        "def frange(start, stop, step):\n",
        "  i = start\n",
        "  while i < stop:\n",
        "    yield i\n",
        "    i += step"
      ],
      "execution_count": 0,
      "outputs": []
    },
    {
      "metadata": {
        "id": "YG3cqQhth7oK",
        "colab_type": "code",
        "colab": {
          "base_uri": "https://localhost:8080/",
          "height": 204
        },
        "outputId": "e3144a7c-56bb-4cd0-ff7d-f1b473f74d1c"
      },
      "cell_type": "code",
      "source": [
        "for i in frange(0,1,0.1):\n",
        "  list_num ="
      ],
      "execution_count": 34,
      "outputs": [
        {
          "output_type": "stream",
          "text": [
            "0\n",
            "0.1\n",
            "0.2\n",
            "0.30000000000000004\n",
            "0.4\n",
            "0.5\n",
            "0.6\n",
            "0.7\n",
            "0.7999999999999999\n",
            "0.8999999999999999\n",
            "0.9999999999999999\n"
          ],
          "name": "stdout"
        }
      ]
    },
    {
      "metadata": {
        "id": "0-uK7I56lGko",
        "colab_type": "code",
        "colab": {}
      },
      "cell_type": "code",
      "source": [
        "#Making the t range\n",
        "t=[]\n",
        "for i in frange(0,1,0.01):\n",
        "  t.append(i)"
      ],
      "execution_count": 0,
      "outputs": []
    },
    {
      "metadata": {
        "id": "WRqgNVQOlTqo",
        "colab_type": "code",
        "colab": {
          "base_uri": "https://localhost:8080/",
          "height": 1717
        },
        "outputId": "d363e29a-e0dd-4069-f64b-5e12f7037d12"
      },
      "cell_type": "code",
      "source": [
        "t"
      ],
      "execution_count": 46,
      "outputs": [
        {
          "output_type": "execute_result",
          "data": {
            "text/plain": [
              "[0,\n",
              " 0.01,\n",
              " 0.02,\n",
              " 0.03,\n",
              " 0.04,\n",
              " 0.05,\n",
              " 0.060000000000000005,\n",
              " 0.07,\n",
              " 0.08,\n",
              " 0.09,\n",
              " 0.09999999999999999,\n",
              " 0.10999999999999999,\n",
              " 0.11999999999999998,\n",
              " 0.12999999999999998,\n",
              " 0.13999999999999999,\n",
              " 0.15,\n",
              " 0.16,\n",
              " 0.17,\n",
              " 0.18000000000000002,\n",
              " 0.19000000000000003,\n",
              " 0.20000000000000004,\n",
              " 0.21000000000000005,\n",
              " 0.22000000000000006,\n",
              " 0.23000000000000007,\n",
              " 0.24000000000000007,\n",
              " 0.25000000000000006,\n",
              " 0.26000000000000006,\n",
              " 0.2700000000000001,\n",
              " 0.2800000000000001,\n",
              " 0.2900000000000001,\n",
              " 0.3000000000000001,\n",
              " 0.3100000000000001,\n",
              " 0.3200000000000001,\n",
              " 0.3300000000000001,\n",
              " 0.34000000000000014,\n",
              " 0.35000000000000014,\n",
              " 0.36000000000000015,\n",
              " 0.37000000000000016,\n",
              " 0.38000000000000017,\n",
              " 0.3900000000000002,\n",
              " 0.4000000000000002,\n",
              " 0.4100000000000002,\n",
              " 0.4200000000000002,\n",
              " 0.4300000000000002,\n",
              " 0.4400000000000002,\n",
              " 0.45000000000000023,\n",
              " 0.46000000000000024,\n",
              " 0.47000000000000025,\n",
              " 0.48000000000000026,\n",
              " 0.49000000000000027,\n",
              " 0.5000000000000002,\n",
              " 0.5100000000000002,\n",
              " 0.5200000000000002,\n",
              " 0.5300000000000002,\n",
              " 0.5400000000000003,\n",
              " 0.5500000000000003,\n",
              " 0.5600000000000003,\n",
              " 0.5700000000000003,\n",
              " 0.5800000000000003,\n",
              " 0.5900000000000003,\n",
              " 0.6000000000000003,\n",
              " 0.6100000000000003,\n",
              " 0.6200000000000003,\n",
              " 0.6300000000000003,\n",
              " 0.6400000000000003,\n",
              " 0.6500000000000004,\n",
              " 0.6600000000000004,\n",
              " 0.6700000000000004,\n",
              " 0.6800000000000004,\n",
              " 0.6900000000000004,\n",
              " 0.7000000000000004,\n",
              " 0.7100000000000004,\n",
              " 0.7200000000000004,\n",
              " 0.7300000000000004,\n",
              " 0.7400000000000004,\n",
              " 0.7500000000000004,\n",
              " 0.7600000000000005,\n",
              " 0.7700000000000005,\n",
              " 0.7800000000000005,\n",
              " 0.7900000000000005,\n",
              " 0.8000000000000005,\n",
              " 0.8100000000000005,\n",
              " 0.8200000000000005,\n",
              " 0.8300000000000005,\n",
              " 0.8400000000000005,\n",
              " 0.8500000000000005,\n",
              " 0.8600000000000005,\n",
              " 0.8700000000000006,\n",
              " 0.8800000000000006,\n",
              " 0.8900000000000006,\n",
              " 0.9000000000000006,\n",
              " 0.9100000000000006,\n",
              " 0.9200000000000006,\n",
              " 0.9300000000000006,\n",
              " 0.9400000000000006,\n",
              " 0.9500000000000006,\n",
              " 0.9600000000000006,\n",
              " 0.9700000000000006,\n",
              " 0.9800000000000006,\n",
              " 0.9900000000000007]"
            ]
          },
          "metadata": {
            "tags": []
          },
          "execution_count": 46
        }
      ]
    },
    {
      "metadata": {
        "id": "6vOexFyGifA-",
        "colab_type": "code",
        "colab": {}
      },
      "cell_type": "code",
      "source": [
        "x_range =[]\n",
        "#x points generation\n",
        "#x = (1-t)^3xo +3t(1-t)^2x1+3t^2(1-t)x2 +t^3x3\n",
        "\n",
        "#x = (1-t)^3.0 +3t(1-t)^2.(0.5)+3t^2(1-t).(0.75) +t^3.0\n",
        "for i in t:\n",
        "  val = ((1-i)**3)*x[0] +3*i*((1-i)**2)*x[1] + 3*(i**2)*(1-i)*x[2] + (i**3)*x[3]\n",
        "  x_range.append(val)"
      ],
      "execution_count": 0,
      "outputs": []
    },
    {
      "metadata": {
        "id": "yj-3YsRDkc-g",
        "colab_type": "code",
        "colab": {}
      },
      "cell_type": "code",
      "source": [
        "y_range =[]\n",
        "#y points generation\n",
        "#y = (1-t)^3yo +3t(1-t)^2y1+3t^2(1-t)y2 +t^3y3\n",
        "\n",
        "#y = (1-t)^3.0 +3t(1-t)^2.(1)+3t^2(1-t).(1) +t^3.0\n",
        "for i in t:\n",
        "  val = ((1-i)**3)*y[0] +3*i*((1-i)**2)*y[1] + 3*(i**2)*(1-i)*y[2] + (i**3)*y[3]\n",
        "  y_range.append(val)"
      ],
      "execution_count": 0,
      "outputs": []
    },
    {
      "metadata": {
        "id": "XqME_mB1kqp4",
        "colab_type": "code",
        "colab": {
          "base_uri": "https://localhost:8080/",
          "height": 286
        },
        "outputId": "b1d3acf5-dd84-44b9-8bd1-3054494106bb"
      },
      "cell_type": "code",
      "source": [
        "plt.plot(x,y, 'r+')\n",
        "plt.plot(x,y, linestyle='solid')\n",
        "plt.plot(a,b, linestyle='solid')\n",
        "plt.plot(x_range,y_range)"
      ],
      "execution_count": 55,
      "outputs": [
        {
          "output_type": "execute_result",
          "data": {
            "text/plain": [
              "[<matplotlib.lines.Line2D at 0x7ff264101ac8>]"
            ]
          },
          "metadata": {
            "tags": []
          },
          "execution_count": 55
        },
        {
          "output_type": "display_data",
          "data": {
            "image/png": "[encoded data removed]",
            "text/plain": [
              "<Figure size 432x288 with 1 Axes>"
            ]
          },
          "metadata": {
            "tags": []
          }
        }
      ]
    },
    {
      "metadata": {
        "id": "VXTNJI-8mN_n",
        "colab_type": "code",
        "colab": {}
      },
      "cell_type": "code",
      "source": [
        ""
      ],
      "execution_count": 0,
      "outputs": []
    }
  ]
}